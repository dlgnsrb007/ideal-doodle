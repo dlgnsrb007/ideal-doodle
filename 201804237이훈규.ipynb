{
 "cells": [
  {
   "cell_type": "code",
   "execution_count": 1,
   "metadata": {},
   "outputs": [],
   "source": [
    "import tensorflow as tf #tensoflow를 tf로 불러온다\n",
    "tf.enable_eager_execution() #execution을 활성화시킨다"
   ]
  },
  {
   "cell_type": "code",
   "execution_count": 2,
   "metadata": {},
   "outputs": [],
   "source": [
    "x_data=[1,2,3,4,5] #x_data와y_data를 준비를 한다\n",
    "y_data=[1,2,3,4,5]"
   ]
  },
  {
   "cell_type": "code",
   "execution_count": 4,
   "metadata": {},
   "outputs": [],
   "source": [
    "w=tf.Variable(2.9) #w와b를 임의로 값을 지정한다\n",
    "b=tf.Variable(0.5)"
   ]
  },
  {
   "cell_type": "code",
   "execution_count": 5,
   "metadata": {},
   "outputs": [],
   "source": [
    "learning_rate=0.01 #learning_rate를 산수로 지정한다"
   ]
  },
  {
   "cell_type": "code",
   "execution_count": 6,
   "metadata": {},
   "outputs": [
    {
     "name": "stdout",
     "output_type": "stream",
     "text": [
      "WARNING:tensorflow:From C:\\ProgramData\\Anaconda3\\lib\\site-packages\\tensorflow\\python\\ops\\resource_variable_ops.py:642: colocate_with (from tensorflow.python.framework.ops) is deprecated and will be removed in a future version.\n",
      "Instructions for updating:\n",
      "Colocations handled automatically by placer.\n",
      "    0|    2.4520|     0.376| 45.660004\n",
      "   10|    1.1036|  0.003398|  0.206336\n",
      "   20|    1.0128|  -0.02091|  0.001026\n",
      "   30|    1.0065|  -0.02184|  0.000093\n",
      "   40|    1.0059|  -0.02123|  0.000083\n",
      "   50|    1.0057|  -0.02053|  0.000077\n",
      "   60|    1.0055|  -0.01984|  0.000072\n",
      "   70|    1.0053|  -0.01918|  0.000067\n",
      "   80|    1.0051|  -0.01854|  0.000063\n",
      "   90|    1.0050|  -0.01793|  0.000059\n",
      "  100|    1.0048|  -0.01733|  0.000055\n"
     ]
    }
   ],
   "source": [
    "for i in range(100+1): #i는 0부터 101까지 변해가게 한다\n",
    "    with tf.GradientTape() as tape: #Gradient descent알고리즘을 통해서 w와b값을 지속으로 계속 갱신한다\n",
    "        hypothesis=w*x_data+b\n",
    "        cost=tf.reduce_mean(tf.square(hypothesis-y_data))\n",
    "    w_grad, b_grad=tape.gradient(cost, [w, b])\n",
    "    w.assign_sub(learning_rate*w_grad) #w값을 업데이트한다\n",
    "    b.assign_sub(learning_rate*b_grad) #b값을 업데이트한다\n",
    "    if i%10==0: #중간에 w와 b값이 어떻게 변하는 지를 10번에 한번씩 {:5}|{:10.4f}|{:10.4}|{:10.6f}\".format(i, w.numpy(),b.numpy(),cost) 이것을 출력한다\n",
    "        print(\"{:5}|{:10.4f}|{:10.4}|{:10.6f}\".format(i, w.numpy(),b.numpy(),cost))"
   ]
  },
  {
   "cell_type": "code",
   "execution_count": null,
   "metadata": {},
   "outputs": [],
   "source": []
  }
 ],
 "metadata": {
  "kernelspec": {
   "display_name": "Python 3",
   "language": "python",
   "name": "python3"
  },
  "language_info": {
   "codemirror_mode": {
    "name": "ipython",
    "version": 3
   },
   "file_extension": ".py",
   "mimetype": "text/x-python",
   "name": "python",
   "nbconvert_exporter": "python",
   "pygments_lexer": "ipython3",
   "version": "3.6.5"
  }
 },
 "nbformat": 4,
 "nbformat_minor": 2
}
