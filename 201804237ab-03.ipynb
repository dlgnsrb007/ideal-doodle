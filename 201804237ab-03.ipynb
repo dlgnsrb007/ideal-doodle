{
 "cells": [
  {
   "cell_type": "code",
   "execution_count": 31,
   "metadata": {},
   "outputs": [],
   "source": [
    "import tensorflow as tf #tensorflow를 tf로 불러온다"
   ]
  },
  {
   "cell_type": "code",
   "execution_count": 32,
   "metadata": {},
   "outputs": [],
   "source": [
    "tf.enable_eager_execution() #eager_excution을 활성화시킨다"
   ]
  },
  {
   "cell_type": "code",
   "execution_count": 33,
   "metadata": {},
   "outputs": [],
   "source": [
    "tf.set_random_seed(0) #random_seed를 초기화한다, 아래의 코드를 다시 수행했을 때도 똑같이 진행이 될수있도록 random_seed를 특정한 값으로 초기화한다"
   ]
  },
  {
   "cell_type": "code",
   "execution_count": 34,
   "metadata": {},
   "outputs": [],
   "source": [
    "x_data = [1.,2.,3.,4.]#x_data와y_data를 준비한다\n",
    "y_data = [1.,3.,5.,7.]"
   ]
  },
  {
   "cell_type": "code",
   "execution_count": 35,
   "metadata": {},
   "outputs": [],
   "source": [
    "w=tf.Variable(tf.random_normal([1],-100.,100.)) #정규분포를 따르는 random_normal을 1개짜리 모양으로 만들고 이것을 tf.Variable로 w를\\에 정의하다"
   ]
  },
  {
   "cell_type": "code",
   "execution_count": 36,
   "metadata": {},
   "outputs": [
    {
     "name": "stdout",
     "output_type": "stream",
     "text": [
      "    0|11716.3086| 48.767971\n",
      "   10| 4504.9126| 30.619968\n",
      "   20| 1732.1364| 19.366755\n",
      "   30|  666.0052| 12.388859\n",
      "   40|  256.0785|  8.062004\n",
      "   50|   98.4620|  5.379007\n",
      "   60|   37.8586|  3.715335\n",
      "   70|   14.5566|  2.683725\n",
      "   80|    5.5970|  2.044044\n",
      "   90|    2.1520|  1.647391\n",
      "  100|    0.8275|  1.401434\n",
      "  110|    0.3182|  1.248922\n",
      "  120|    0.1223|  1.154351\n",
      "  130|    0.0470|  1.095710\n",
      "  140|    0.0181|  1.059348\n",
      "  150|    0.0070|  1.036801\n",
      "  160|    0.0027|  1.022819\n",
      "  170|    0.0010|  1.014150\n",
      "  180|    0.0004|  1.008774\n",
      "  190|    0.0002|  1.005441\n",
      "  200|    0.0001|  1.003374\n",
      "  210|    0.0000|  1.002092\n",
      "  220|    0.0000|  1.001297\n",
      "  230|    0.0000|  1.000804\n",
      "  240|    0.0000|  1.000499\n",
      "  250|    0.0000|  1.000309\n",
      "  260|    0.0000|  1.000192\n",
      "  270|    0.0000|  1.000119\n",
      "  280|    0.0000|  1.000074\n",
      "  290|    0.0000|  1.000046\n"
     ]
    }
   ],
   "source": [
    "for step in range(300): #step은 300까지 변해가게 한다\n",
    "    hypothesis = w* x #hypothesis함수를 w*x로 정의한다\n",
    "    cost = tf.reduce_mean(tf.square(hypothesis - y)) #cost함수는 hypothesis와 y 차이 제곱의 평균이라고 정의한다\n",
    "   #가설에서 실제 값을 뺀 값 제곱의 평균을 미분한여 기울기를 구한다 이것을 gradient로 지정한다\n",
    "    alpha = 0.01\n",
    "    gradient = tf.reduce_mean(tf.multiply(tf.multiply(w,x)-y,x))\n",
    "    descent=w - tf.multiply(alpha,gradient) #gradient에 alpha 값을 곱하고 w에서 빼주면서 새로운 w 값 descent로 지정하면서 업데이트를 한다\n",
    "    w.assign(descent)\n",
    "    if step % 10 == 0: #중간에 10번에 한번씩 cost 값과 w 값을 출력한다\n",
    "        print('{:5}|{:10.4f}|{:10.6f}'.format(step,cost.numpy(),w.numpy()[0]))"
   ]
  },
  {
   "cell_type": "code",
   "execution_count": null,
   "metadata": {},
   "outputs": [],
   "source": []
  }
 ],
 "metadata": {
  "kernelspec": {
   "display_name": "Python 3",
   "language": "python",
   "name": "python3"
  },
  "language_info": {
   "codemirror_mode": {
    "name": "ipython",
    "version": 3
   },
   "file_extension": ".py",
   "mimetype": "text/x-python",
   "name": "python",
   "nbconvert_exporter": "python",
   "pygments_lexer": "ipython3",
   "version": "3.6.5"
  }
 },
 "nbformat": 4,
 "nbformat_minor": 2
}
