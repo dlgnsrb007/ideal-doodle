{
 "cells": [
  {
   "cell_type": "code",
   "execution_count": 14,
   "metadata": {},
   "outputs": [],
   "source": [
    "import tensorflow as tf #tensorlow를 tf에 불러온다"
   ]
  },
  {
   "cell_type": "code",
   "execution_count": 15,
   "metadata": {},
   "outputs": [],
   "source": [
    "tf.set_random_seed(777) #tf에 랜덤 시드 777개를 지정한다"
   ]
  },
  {
   "cell_type": "code",
   "execution_count": 16,
   "metadata": {},
   "outputs": [],
   "source": [
    "x_data = [[1, 2],\n",
    "          [2, 3],\n",
    "          [3, 1],\n",
    "          [4, 3],\n",
    "          [5, 3],\n",
    "          [6, 2]]\n",
    "y_data = [[0],\n",
    "          [0],\n",
    "          [0],\n",
    "          [1],\n",
    "          [1],\n",
    "          [1]]\n",
    " #x_data를[[1, 2], [2, 3], [3, 1], [4, 3], [5, 3], [6, 2]]로 만들고 y_data를[[0], [0], [0], [1], [1], [1]]로 만든다\n",
    "\n"
   ]
  },
  {
   "cell_type": "code",
   "execution_count": 17,
   "metadata": {},
   "outputs": [],
   "source": [
    "X = tf.placeholder(tf.float32, shape=[None, 2])\n",
    "Y = tf.placeholder(tf.float32, shape=[None, 1])\n",
    "# X에 인풋레이어 사용할 변수 행렬 None, 2 지정하고 Y에 아웃프레이어 사용할 변수 행렬 None, 1지정한다\n",
    "\n"
   ]
  },
  {
   "cell_type": "code",
   "execution_count": 18,
   "metadata": {},
   "outputs": [],
   "source": [
    "W = tf.Variable(tf.random_normal([2, 1]), name='weight')\n",
    "b = tf.Variable(tf.random_normal([1]), name='bias')\n",
    "# W에 이름이 weight라는 (랜덤행렬 2,1)메트릭스 생성하고 b에 이름이 bias라는(랜덤행렬 1,)메트릭스 생성한다\n",
    "\n"
   ]
  },
  {
   "cell_type": "code",
   "execution_count": 19,
   "metadata": {},
   "outputs": [],
   "source": [
    "hypothesis = tf.sigmoid(tf.matmul(X, W) + b)\n",
    "# hypothesis에 tf.matmul(X, W) + b이것의 값을 지정한다\n"
   ]
  },
  {
   "cell_type": "code",
   "execution_count": 20,
   "metadata": {},
   "outputs": [],
   "source": [
    "cost = -tf.reduce_mean(Y * tf.log(hypothesis) + (1 - Y) *\n",
    "                       tf.log(1 - hypothesis))\n",
    "# 로그를 이용해서 cost값 오차 함수를 구하게 한다\n",
    "\n"
   ]
  },
  {
   "cell_type": "code",
   "execution_count": 21,
   "metadata": {},
   "outputs": [],
   "source": [
    "train = tf.train.GradientDescentOptimizer(learning_rate=0.01).minimize(cost)\n",
    "# cost를 최소화시켜 최적의 값을 구한다.\n",
    "\n"
   ]
  },
  {
   "cell_type": "code",
   "execution_count": 22,
   "metadata": {},
   "outputs": [],
   "source": [
    "predicted = tf.cast(hypothesis > 0.5, dtype=tf.float32)\n",
    "accuracy = tf.reduce_mean(tf.cast(tf.equal(predicted, Y), dtype=tf.float32))\n",
    "# predicted는 0.5를 기준을 잡아 0과 1로 나온 값에 true와 false을 나오게 하고 accuracy는 0이나1의 값을 평균 값을 구한다"
   ]
  },
  {
   "cell_type": "code",
   "execution_count": 23,
   "metadata": {},
   "outputs": [
    {
     "name": "stdout",
     "output_type": "stream",
     "text": [
      "0 3.4600918\n",
      "200 0.6340277\n",
      "400 0.56874603\n",
      "600 0.5307358\n",
      "800 0.5038678\n",
      "1000 0.48225307\n",
      "1200 0.4634873\n",
      "1400 0.44649193\n",
      "1600 0.43074465\n",
      "1800 0.41597405\n",
      "2000 0.4020288\n",
      "2200 0.38881698\n",
      "2400 0.37627664\n",
      "2600 0.36436176\n",
      "2800 0.35303453\n",
      "3000 0.342262\n",
      "3200 0.332014\n",
      "3400 0.3222622\n",
      "3600 0.31297967\n",
      "3800 0.30414087\n",
      "4000 0.29572132\n",
      "4200 0.28769776\n",
      "4400 0.28004786\n",
      "4600 0.2727507\n",
      "4800 0.2657863\n",
      "5000 0.25913578\n",
      "5200 0.25278148\n",
      "5400 0.24670666\n",
      "5600 0.24089547\n",
      "5800 0.2353331\n",
      "6000 0.23000568\n",
      "6200 0.22490025\n",
      "6400 0.2200045\n",
      "6600 0.21530704\n",
      "6800 0.21079703\n",
      "7000 0.20646437\n",
      "7200 0.20229967\n",
      "7400 0.198294\n",
      "7600 0.19443913\n",
      "7800 0.19072728\n",
      "8000 0.18715097\n",
      "8200 0.1837035\n",
      "8400 0.18037827\n",
      "8600 0.17716937\n",
      "8800 0.17407101\n",
      "9000 0.17107797\n",
      "9200 0.16818501\n",
      "9400 0.16538753\n",
      "9600 0.16268107\n",
      "9800 0.16006146\n",
      "10000 0.15752463\n",
      "\n",
      "Hypothesis:  [[0.03418863]\n",
      " [0.16327265]\n",
      " [0.3209639 ]\n",
      " [0.77412295]\n",
      " [0.9349081 ]\n",
      " [0.9786154 ]] \n",
      "Correct (Y):  [[0.]\n",
      " [0.]\n",
      " [0.]\n",
      " [1.]\n",
      " [1.]\n",
      " [1.]] \n",
      "Accuracy:  1.0\n"
     ]
    }
   ],
   "source": [
    "with tf.Session() as sess:\n",
    "    sess.run(tf.global_variables_initializer())\n",
    "# 모든 변수에 초기화, 연산을 반복한다.\n",
    "    for step in range(10001):\n",
    "        cost_val, _ = sess.run([cost, train], feed_dict={X: x_data, Y: y_data})\n",
    "        if step % 200 == 0:\n",
    "            print(step, cost_val)\n",
    "# cost를 200배 단위로 확인한다\n",
    "    h, c, a = sess.run([hypothesis, predicted, accuracy],\n",
    "                       feed_dict={X: x_data, Y: y_data})\n",
    "    print(\"\\nHypothesis: \", h, \"\\nCorrect (Y): \", c, \"\\nAccuracy: \", a)\n",
    "# 학습중에도 값을 계속 확인한다.\n",
    "\n",
    "\n",
    "\n",
    "\n"
   ]
  },
  {
   "cell_type": "code",
   "execution_count": null,
   "metadata": {},
   "outputs": [],
   "source": []
  }
 ],
 "metadata": {
  "kernelspec": {
   "display_name": "Python 3",
   "language": "python",
   "name": "python3"
  },
  "language_info": {
   "codemirror_mode": {
    "name": "ipython",
    "version": 3
   },
   "file_extension": ".py",
   "mimetype": "text/x-python",
   "name": "python",
   "nbconvert_exporter": "python",
   "pygments_lexer": "ipython3",
   "version": "3.6.5"
  }
 },
 "nbformat": 4,
 "nbformat_minor": 2
}
